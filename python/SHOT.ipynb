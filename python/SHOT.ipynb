{
 "cells": [
  {
   "cell_type": "code",
   "execution_count": 60,
   "metadata": {},
   "outputs": [],
   "source": [
    "import torch\n",
    "import numpy as np\n",
    "from torch import FloatTensor, LongTensor\n",
    "from typing import Tuple\n"
   ]
  },
  {
   "cell_type": "code",
   "execution_count": 63,
   "metadata": {},
   "outputs": [],
   "source": [
    "def loc_ref_frame(pos: FloatTensor, center: FloatTensor, radius: float) -> Tuple[FloatTensor, FloatTensor, FloatTensor]:\n",
    "    \"\"\"\"\"\"\n",
    "    rel_pos = pos - center # relative position\n",
    "    rel_pos_norm = torch.norm(rel_pos, dim = 1) # tensor of position vector norm\n",
    "    \n",
    "    # Modified covariance matrix estimator\n",
    "    weight = (radius - rel_pos_norm)\n",
    "    weight_sum = sum(weight)\n",
    "    M = torch.mm(weight * torch.t(rel_pos), rel_pos) / weight_sum\n",
    "    print(M)\n",
    "    \n",
    "    # Eigenvalues and eigenvectors calculation\n",
    "    # Vectors as columns, ordered by ascending e_val's\n",
    "    e_val, e_vec = torch.symeig(M, eigenvectors = True)\n",
    "    print(e_val)\n",
    "    \n",
    "    # Egien vectors sense calculation\n",
    "    # x and z denote respectively e_vec of highest and e_vec of lowest e_val.\n",
    "    S_T = torch.mm(pos, e_vec) \n",
    "    S_x, S_z = S_T[:, 2], S_T[:, 0]\n",
    "    \n",
    "    # Sign of x \n",
    "    if (S_x >= 0).nonzero().size()[0] >= num_points / 2: \n",
    "        sign_x = 1\n",
    "    else: sign_x = -1\n",
    "    \n",
    "    # Sign of z\n",
    "    if (S_z >= 0).nonzero().size()[0] >= num_points / 2:\n",
    "        sign_z = 1\n",
    "    else: sign_z = -1\n",
    "        \n",
    "    # LRF vectors\n",
    "    x = sign_x * e_vec[:, 2]  \n",
    "    z = sign_z * e_vec[:, 0]\n",
    "    y = torch.cross(x, z)\n",
    "    \n",
    "    return x, y, z"
   ]
  },
  {
   "cell_type": "code",
   "execution_count": 64,
   "metadata": {},
   "outputs": [
    {
     "name": "stdout",
     "output_type": "stream",
     "text": [
      "tensor([[ 0.8900,  0.0021, -0.0100],\n",
      "        [ 0.0021,  0.8766, -0.0031],\n",
      "        [-0.0100, -0.0031,  0.8996]], dtype=torch.float64)\n",
      "tensor([0.8761, 0.8838, 0.9064], dtype=torch.float64)\n"
     ]
    }
   ],
   "source": [
    "num_points = 10000\n",
    "radius = 3.\n",
    "center = np.array([1., 2., 2.])\n",
    "\n",
    "\n",
    "# Sample points (num_points) according to uniform distribution\n",
    "# on the ball of the center and the radius given above\n",
    "\n",
    "pos = np.random.randn(num_points, 3)\n",
    "rad = np.random.uniform(size = (num_points, 1))\n",
    "pos_norm = np.array(np.linalg.norm(pos, axis = 1)).reshape(num_points, 1)\n",
    "pos = pos / pos_norm * np.sqrt(rad) * radius  # Uniform distribution on ball\n",
    "#pos *= np.array([1., 0.5, 0.1]) # Uniform distribution on elipsiod\n",
    "pos += center\n",
    "\n",
    "\n",
    "# Converting into Tensors\n",
    "pos_T = torch.from_numpy(pos)\n",
    "center_T = torch.from_numpy(center)\n",
    "\n",
    "# Test\n",
    "result = loc_ref_frame(pos_T, center_T, radius)"
   ]
  },
  {
   "cell_type": "code",
   "execution_count": 2,
   "metadata": {},
   "outputs": [
    {
     "ename": "ImportError",
     "evalue": "libpcl_keypoints.so.1.7: cannot open shared object file: No such file or directory",
     "output_type": "error",
     "traceback": [
      "\u001b[0;31m---------------------------------------------------------------------------\u001b[0m",
      "\u001b[0;31mImportError\u001b[0m                               Traceback (most recent call last)",
      "\u001b[0;32m<ipython-input-2-5722f1d0ec6b>\u001b[0m in \u001b[0;36m<module>\u001b[0;34m\u001b[0m\n\u001b[0;32m----> 1\u001b[0;31m \u001b[0;32mimport\u001b[0m \u001b[0mpcl\u001b[0m\u001b[0;34m\u001b[0m\u001b[0;34m\u001b[0m\u001b[0m\n\u001b[0m\u001b[1;32m      2\u001b[0m \u001b[0mp\u001b[0m \u001b[0;34m=\u001b[0m \u001b[0mpcl\u001b[0m\u001b[0;34m.\u001b[0m\u001b[0mload\u001b[0m\u001b[0;34m(\u001b[0m\u001b[0;34m\"C/table_scene_lms400.pcd\"\u001b[0m\u001b[0;34m)\u001b[0m\u001b[0;34m\u001b[0m\u001b[0;34m\u001b[0m\u001b[0m\n",
      "\u001b[0;32m~/.virtualenvs/shot/lib/python3.7/site-packages/pcl/__init__.py\u001b[0m in \u001b[0;36m<module>\u001b[0;34m\u001b[0m\n\u001b[1;32m      1\u001b[0m \u001b[0;31m# XXX do a more specific import!\u001b[0m\u001b[0;34m\u001b[0m\u001b[0;34m\u001b[0m\u001b[0;34m\u001b[0m\u001b[0m\n\u001b[0;32m----> 2\u001b[0;31m \u001b[0;32mfrom\u001b[0m \u001b[0;34m.\u001b[0m\u001b[0m_pcl\u001b[0m \u001b[0;32mimport\u001b[0m \u001b[0;34m*\u001b[0m\u001b[0;34m\u001b[0m\u001b[0;34m\u001b[0m\u001b[0m\n\u001b[0m\u001b[1;32m      3\u001b[0m \u001b[0;31m# from .pcl_visualization import *\u001b[0m\u001b[0;34m\u001b[0m\u001b[0;34m\u001b[0m\u001b[0;34m\u001b[0m\u001b[0m\n\u001b[1;32m      4\u001b[0m \u001b[0;31m# from .pcl_grabber import *\u001b[0m\u001b[0;34m\u001b[0m\u001b[0;34m\u001b[0m\u001b[0;34m\u001b[0m\u001b[0m\n\u001b[1;32m      5\u001b[0m \u001b[0;34m\u001b[0m\u001b[0m\n",
      "\u001b[0;31mImportError\u001b[0m: libpcl_keypoints.so.1.7: cannot open shared object file: No such file or directory"
     ]
    }
   ],
   "source": [
    "import pcl\n",
    "p = pcl.load(\"C/table_scene_lms400.pcd\")"
   ]
  },
  {
   "cell_type": "code",
   "execution_count": null,
   "metadata": {},
   "outputs": [],
   "source": []
  }
 ],
 "metadata": {
  "kernelspec": {
   "display_name": "Python 3",
   "language": "python",
   "name": "python3"
  },
  "language_info": {
   "codemirror_mode": {
    "name": "ipython",
    "version": 3
   },
   "file_extension": ".py",
   "mimetype": "text/x-python",
   "name": "python",
   "nbconvert_exporter": "python",
   "pygments_lexer": "ipython3",
   "version": "3.7.3"
  }
 },
 "nbformat": 4,
 "nbformat_minor": 2
}
